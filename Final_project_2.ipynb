{
 "cells": [
  {
   "cell_type": "markdown",
   "metadata": {
    "id": "5U-NePa62wtr"
   },
   "source": [
    "# Group 8.\n",
    "\n",
    "### Classification of Butterfly Species Using CNN.\n",
    "\n",
    "(Advait Chaudhari, Atharwa Gokhale, Swanand Vaidya, Aditya Kulkarni)."
   ]
  },
  {
   "cell_type": "markdown",
   "metadata": {
    "id": "9j8VSdf8C_FA"
   },
   "source": [
    "# ***Libraries Used***"
   ]
  },
  {
   "cell_type": "code",
   "execution_count": null,
   "metadata": {
    "id": "uFt9zvVd2wt2"
   },
   "outputs": [],
   "source": [
    "import matplotlib.pyplot as plt\n",
    "import seaborn as sns\n",
    "import keras\n",
    "from PIL import Image\n",
    "import matplotlib.image as mpimg\n",
    "from keras.models import Sequential\n",
    "from keras.layers import MaxPooling2D,Flatten,Dense,Conv2D,Activation,Dropout\n",
    "from keras.preprocessing.image import ImageDataGenerator\n",
    "#from tensorflow.keras.optimizers import Adam \n",
    "from tensorflow.keras.losses import categorical_crossentropy\n",
    "from sklearn.metrics import classification_report,confusion_matrix\n",
    "import tensorflow as tf\n",
    "tf.compat.v1.set_random_seed(2019)\n",
    "import cv2\n",
    "import os\n",
    "import numpy as np\n",
    "%matplotlib inline\n",
    "from tensorflow.keras.layers import BatchNormalization\n",
    "from sklearn.model_selection import train_test_split\n",
    "from keras.utils import np_utils\n",
    "import pandas as pd\n",
    "\n",
    "from tensorflow import keras\n",
    "from tensorflow.keras import layers\n",
    "\n",
    "model = keras.Sequential()\n",
    "model.add(layers.Dense(64, kernel_initializer='uniform', input_shape=(10,)))\n",
    "model.add(layers.Activation('softmax'))\n",
    "\n",
    "opt = keras.optimizers.Adam(learning_rate=0.01)\n",
    "model.compile(loss='categorical_crossentropy', optimizer=opt)"
   ]
  },
  {
   "cell_type": "code",
   "execution_count": null,
   "metadata": {
    "colab": {
     "base_uri": "https://localhost:8080/"
    },
    "id": "-cK0X4BA20qp",
    "outputId": "d8a14b97-5e51-41be-fd24-c581522a38ce"
   },
   "outputs": [
    {
     "name": "stdout",
     "output_type": "stream",
     "text": [
      "Drive already mounted at /content/drive; to attempt to forcibly remount, call drive.mount(\"/content/drive\", force_remount=True).\n"
     ]
    }
   ],
   "source": [
    "from google.colab import drive\n",
    "drive.mount('/content/drive')"
   ]
  },
  {
   "cell_type": "markdown",
   "metadata": {
    "id": "MqMeE3LwDYG2"
   },
   "source": [
    "# ***Pre-Processing***"
   ]
  },
  {
   "cell_type": "code",
   "execution_count": null,
   "metadata": {
    "id": "AYfg19eh2wt7"
   },
   "outputs": [],
   "source": [
    "datagen = tf.keras.preprocessing.image.ImageDataGenerator(\n",
    "\n",
    "    featurewise_center=False,\n",
    "    samplewise_center=False,\n",
    "    featurewise_std_normalization=False,\n",
    "    samplewise_std_normalization=False,\n",
    "    zca_whitening=False,\n",
    "    zca_epsilon=1e-06,\n",
    "    rotation_range=20,\n",
    "    width_shift_range=0.2,\n",
    "    height_shift_range=0.2,\n",
    "    shear_range=0.3,\n",
    "    zoom_range=0.3,\n",
    "    fill_mode=\"nearest\",\n",
    "    cval=0.0,\n",
    "    horizontal_flip=True,\n",
    "    vertical_flip=True,\n",
    "    rescale = 1./255,\n",
    "    preprocessing_function=None,\n",
    "    data_format=None,\n",
    "    validation_split=0.0,\n",
    "    dtype=None,\n",
    ")"
   ]
  },
  {
   "cell_type": "code",
   "execution_count": null,
   "metadata": {
    "colab": {
     "base_uri": "https://localhost:8080/"
    },
    "id": "uyKN0Clm2wt9",
    "outputId": "38ed3385-aa40-4f4c-cb57-2deff0494436"
   },
   "outputs": [
    {
     "name": "stdout",
     "output_type": "stream",
     "text": [
      "Found 4221 images belonging to 5 classes.\n",
      "Found 1845 images belonging to 5 classes.\n"
     ]
    }
   ],
   "source": [
    "bs = 128\n",
    "\n",
    "# load and iterate training dataset\n",
    "train_it = datagen.flow_from_directory('/content/drive/MyDrive/Butterflies', class_mode='categorical', batch_size = bs, target_size=(180, 180))\n",
    "# load and iterate test dataset\n",
    "test_it = datagen.flow_from_directory('/content/drive/MyDrive/Butterflies 2', class_mode='categorical', batch_size = bs, target_size=(180, 180))"
   ]
  },
  {
   "cell_type": "markdown",
   "metadata": {
    "id": "QS2lWP1YDhRg"
   },
   "source": [
    "# ***Model Building***"
   ]
  },
  {
   "cell_type": "code",
   "execution_count": null,
   "metadata": {
    "id": "mmDLa3a42wuB"
   },
   "outputs": [],
   "source": [
    "model = tf.keras.models.Sequential([\n",
    "    tf.keras.layers.Conv2D(16,(3,3),activation = \"relu\" , input_shape = (180,180,3)) ,\n",
    "    tf.keras.layers.MaxPooling2D(2,2),\n",
    "    tf.keras.layers.Conv2D(32,(3,3),activation = \"relu\") ,  \n",
    "    tf.keras.layers.MaxPooling2D(2,2),\n",
    "    tf.keras.layers.Conv2D(64,(3,3),activation = \"relu\") ,  \n",
    "    tf.keras.layers.MaxPooling2D(2,2),\n",
    "    tf.keras.layers.Conv2D(128,(3,3),activation = \"relu\"),  \n",
    "    tf.keras.layers.MaxPooling2D(2,2),\n",
    "    tf.keras.layers.Flatten(), \n",
    "    tf.keras.layers.Dense(550,activation=\"relu\"),      #Adding the Hidden layer\n",
    "    tf.keras.layers.Dropout(0.1,seed = 2019),\n",
    "    tf.keras.layers.Dense(400,activation =\"relu\"),\n",
    "    tf.keras.layers.Dropout(0.3,seed = 2019),\n",
    "    tf.keras.layers.Dense(300,activation=\"relu\"),\n",
    "    tf.keras.layers.Dropout(0.4,seed = 2019),\n",
    "    tf.keras.layers.Dense(200,activation =\"relu\"),\n",
    "    tf.keras.layers.Dropout(0.2,seed = 2019),\n",
    "    tf.keras.layers.Dense(5,activation = \"softmax\")   #Adding the Output Layer\n",
    "])"
   ]
  },
  {
   "cell_type": "code",
   "execution_count": null,
   "metadata": {
    "colab": {
     "base_uri": "https://localhost:8080/"
    },
    "id": "w7qsvMoc2wuD",
    "outputId": "9f7d0bb2-085b-4919-c9fa-d43fb638f797"
   },
   "outputs": [
    {
     "name": "stdout",
     "output_type": "stream",
     "text": [
      "Model: \"sequential_3\"\n",
      "_________________________________________________________________\n",
      "Layer (type)                 Output Shape              Param #   \n",
      "=================================================================\n",
      "conv2d_4 (Conv2D)            (None, 178, 178, 16)      448       \n",
      "_________________________________________________________________\n",
      "max_pooling2d_4 (MaxPooling2 (None, 89, 89, 16)        0         \n",
      "_________________________________________________________________\n",
      "conv2d_5 (Conv2D)            (None, 87, 87, 32)        4640      \n",
      "_________________________________________________________________\n",
      "max_pooling2d_5 (MaxPooling2 (None, 43, 43, 32)        0         \n",
      "_________________________________________________________________\n",
      "conv2d_6 (Conv2D)            (None, 41, 41, 64)        18496     \n",
      "_________________________________________________________________\n",
      "max_pooling2d_6 (MaxPooling2 (None, 20, 20, 64)        0         \n",
      "_________________________________________________________________\n",
      "conv2d_7 (Conv2D)            (None, 18, 18, 128)       73856     \n",
      "_________________________________________________________________\n",
      "max_pooling2d_7 (MaxPooling2 (None, 9, 9, 128)         0         \n",
      "_________________________________________________________________\n",
      "flatten_1 (Flatten)          (None, 10368)             0         \n",
      "_________________________________________________________________\n",
      "dense_7 (Dense)              (None, 550)               5702950   \n",
      "_________________________________________________________________\n",
      "dropout_4 (Dropout)          (None, 550)               0         \n",
      "_________________________________________________________________\n",
      "dense_8 (Dense)              (None, 400)               220400    \n",
      "_________________________________________________________________\n",
      "dropout_5 (Dropout)          (None, 400)               0         \n",
      "_________________________________________________________________\n",
      "dense_9 (Dense)              (None, 300)               120300    \n",
      "_________________________________________________________________\n",
      "dropout_6 (Dropout)          (None, 300)               0         \n",
      "_________________________________________________________________\n",
      "dense_10 (Dense)             (None, 200)               60200     \n",
      "_________________________________________________________________\n",
      "dropout_7 (Dropout)          (None, 200)               0         \n",
      "_________________________________________________________________\n",
      "dense_11 (Dense)             (None, 5)                 1005      \n",
      "=================================================================\n",
      "Total params: 6,202,295\n",
      "Trainable params: 6,202,295\n",
      "Non-trainable params: 0\n",
      "_________________________________________________________________\n"
     ]
    }
   ],
   "source": [
    "model.summary()"
   ]
  },
  {
   "cell_type": "code",
   "execution_count": null,
   "metadata": {
    "id": "7Qs0Lq9n2wuF"
   },
   "outputs": [],
   "source": [
    "# implementing a callback function to terminate training once training reaches 98% accuracy for validation data\n",
    "\n",
    "validation_accuracy = 0.98\n",
    "\n",
    "class myCallback(tf.keras.callbacks.Callback):\n",
    "    def on_epoch_end(self, epoch, logs={}):\n",
    "        if(logs.get(\"val_accuracy\") >= validation_accuracy):\n",
    "            print(\"\\nReached desired validation accuracy, so cancelling training\")\n",
    "            self.model.stop_training=True\n",
    "\n",
    "callbacks = myCallback()"
   ]
  },
  {
   "cell_type": "code",
   "execution_count": null,
   "metadata": {
    "id": "QSPKUEHv2wuH"
   },
   "outputs": [],
   "source": [
    "model.compile(loss = \"categorical_crossentropy\", optimizer='rmsprop', metrics=['accuracy'])"
   ]
  },
  {
   "cell_type": "code",
   "execution_count": null,
   "metadata": {
    "colab": {
     "base_uri": "https://localhost:8080/"
    },
    "id": "8fcuKtJE2wuJ",
    "outputId": "aeef5651-b6fc-4deb-898e-1726243f67c8"
   },
   "outputs": [
    {
     "name": "stderr",
     "output_type": "stream",
     "text": [
      "/usr/local/lib/python3.7/dist-packages/keras/engine/training.py:1972: UserWarning: `Model.fit_generator` is deprecated and will be removed in a future version. Please use `Model.fit`, which supports generators.\n",
      "  warnings.warn('`Model.fit_generator` is deprecated and '\n"
     ]
    },
    {
     "name": "stdout",
     "output_type": "stream",
     "text": [
      "Epoch 1/50\n"
     ]
    },
    {
     "name": "stderr",
     "output_type": "stream",
     "text": [
      "/usr/local/lib/python3.7/dist-packages/PIL/Image.py:960: UserWarning: Palette images with Transparency expressed in bytes should be converted to RGBA images\n",
      "  \"Palette images with Transparency expressed in bytes should be \"\n"
     ]
    },
    {
     "name": "stdout",
     "output_type": "stream",
     "text": [
      "33/33 - 196s - loss: 1.7676 - accuracy: 0.2964 - val_loss: 1.5936 - val_accuracy: 0.1680\n",
      "Epoch 2/50\n",
      "33/33 - 193s - loss: 1.5450 - accuracy: 0.3146 - val_loss: 1.5567 - val_accuracy: 0.3138\n",
      "Epoch 3/50\n",
      "33/33 - 192s - loss: 1.4818 - accuracy: 0.3982 - val_loss: 1.2985 - val_accuracy: 0.4119\n",
      "Epoch 4/50\n",
      "33/33 - 191s - loss: 1.2940 - accuracy: 0.4558 - val_loss: 1.2178 - val_accuracy: 0.4423\n",
      "Epoch 5/50\n",
      "33/33 - 192s - loss: 1.1410 - accuracy: 0.5124 - val_loss: 0.9812 - val_accuracy: 0.5350\n",
      "Epoch 6/50\n",
      "33/33 - 192s - loss: 1.0330 - accuracy: 0.5551 - val_loss: 0.8947 - val_accuracy: 0.5734\n",
      "Epoch 7/50\n",
      "33/33 - 192s - loss: 0.8510 - accuracy: 0.6112 - val_loss: 0.8320 - val_accuracy: 0.6130\n",
      "Epoch 8/50\n",
      "33/33 - 191s - loss: 0.9240 - accuracy: 0.5975 - val_loss: 0.8666 - val_accuracy: 0.5951\n",
      "Epoch 9/50\n",
      "33/33 - 192s - loss: 0.7505 - accuracy: 0.6513 - val_loss: 0.8881 - val_accuracy: 0.5724\n",
      "Epoch 10/50\n",
      "33/33 - 191s - loss: 0.7450 - accuracy: 0.6555 - val_loss: 0.9747 - val_accuracy: 0.5355\n",
      "Epoch 11/50\n",
      "33/33 - 191s - loss: 0.7055 - accuracy: 0.6773 - val_loss: 0.7821 - val_accuracy: 0.6157\n",
      "Epoch 12/50\n",
      "33/33 - 191s - loss: 0.7481 - accuracy: 0.6707 - val_loss: 0.7382 - val_accuracy: 0.6531\n",
      "Epoch 13/50\n",
      "33/33 - 191s - loss: 0.6551 - accuracy: 0.6927 - val_loss: 0.7234 - val_accuracy: 0.6949\n",
      "Epoch 14/50\n",
      "33/33 - 190s - loss: 0.6435 - accuracy: 0.7105 - val_loss: 0.6496 - val_accuracy: 0.7285\n",
      "Epoch 15/50\n",
      "33/33 - 190s - loss: 0.6286 - accuracy: 0.7221 - val_loss: 0.7385 - val_accuracy: 0.6542\n",
      "Epoch 16/50\n",
      "33/33 - 190s - loss: 0.6253 - accuracy: 0.7294 - val_loss: 0.6488 - val_accuracy: 0.6873\n",
      "Epoch 17/50\n",
      "33/33 - 190s - loss: 0.5903 - accuracy: 0.7434 - val_loss: 0.7019 - val_accuracy: 0.6867\n",
      "Epoch 18/50\n",
      "33/33 - 190s - loss: 0.5744 - accuracy: 0.7574 - val_loss: 0.6968 - val_accuracy: 0.6764\n",
      "Epoch 19/50\n",
      "33/33 - 189s - loss: 0.5710 - accuracy: 0.7541 - val_loss: 0.5943 - val_accuracy: 0.7772\n",
      "Epoch 20/50\n",
      "33/33 - 190s - loss: 0.5354 - accuracy: 0.7794 - val_loss: 0.5285 - val_accuracy: 0.7892\n",
      "Epoch 21/50\n",
      "33/33 - 189s - loss: 0.5070 - accuracy: 0.7882 - val_loss: 0.4885 - val_accuracy: 0.7870\n",
      "Epoch 22/50\n",
      "33/33 - 189s - loss: 0.4861 - accuracy: 0.8008 - val_loss: 0.5634 - val_accuracy: 0.7328\n",
      "Epoch 23/50\n",
      "33/33 - 190s - loss: 0.5471 - accuracy: 0.7806 - val_loss: 0.5175 - val_accuracy: 0.7691\n",
      "Epoch 24/50\n",
      "33/33 - 189s - loss: 0.4886 - accuracy: 0.7960 - val_loss: 0.6034 - val_accuracy: 0.7160\n",
      "Epoch 25/50\n",
      "33/33 - 189s - loss: 0.5055 - accuracy: 0.7915 - val_loss: 1.0646 - val_accuracy: 0.6201\n",
      "Epoch 26/50\n",
      "33/33 - 189s - loss: 0.4857 - accuracy: 0.8067 - val_loss: 0.4281 - val_accuracy: 0.8352\n",
      "Epoch 27/50\n",
      "33/33 - 189s - loss: 0.4640 - accuracy: 0.8204 - val_loss: 0.4537 - val_accuracy: 0.8228\n",
      "Epoch 28/50\n",
      "33/33 - 189s - loss: 0.4519 - accuracy: 0.8178 - val_loss: 0.4118 - val_accuracy: 0.8309\n",
      "Epoch 29/50\n",
      "33/33 - 189s - loss: 0.4445 - accuracy: 0.8162 - val_loss: 0.4711 - val_accuracy: 0.8060\n",
      "Epoch 30/50\n",
      "33/33 - 190s - loss: 0.4238 - accuracy: 0.8332 - val_loss: 0.3878 - val_accuracy: 0.8455\n",
      "Epoch 31/50\n",
      "33/33 - 190s - loss: 0.4299 - accuracy: 0.8380 - val_loss: 0.3874 - val_accuracy: 0.8547\n",
      "Epoch 32/50\n",
      "33/33 - 190s - loss: 0.3952 - accuracy: 0.8356 - val_loss: 0.5708 - val_accuracy: 0.7924\n",
      "Epoch 33/50\n",
      "33/33 - 190s - loss: 0.4049 - accuracy: 0.8413 - val_loss: 0.3867 - val_accuracy: 0.8417\n",
      "Epoch 34/50\n",
      "33/33 - 189s - loss: 0.4206 - accuracy: 0.8372 - val_loss: 0.3643 - val_accuracy: 0.8537\n",
      "Epoch 35/50\n",
      "33/33 - 190s - loss: 0.4417 - accuracy: 0.8342 - val_loss: 0.3763 - val_accuracy: 0.8488\n",
      "Epoch 36/50\n",
      "33/33 - 191s - loss: 0.3717 - accuracy: 0.8586 - val_loss: 0.3909 - val_accuracy: 0.8407\n",
      "Epoch 37/50\n",
      "33/33 - 191s - loss: 0.3762 - accuracy: 0.8550 - val_loss: 0.2972 - val_accuracy: 0.8759\n",
      "Epoch 38/50\n",
      "33/33 - 190s - loss: 0.4395 - accuracy: 0.8396 - val_loss: 0.9566 - val_accuracy: 0.6488\n",
      "Epoch 39/50\n",
      "33/33 - 190s - loss: 0.3990 - accuracy: 0.8474 - val_loss: 0.3411 - val_accuracy: 0.8640\n",
      "Epoch 40/50\n",
      "33/33 - 190s - loss: 0.3613 - accuracy: 0.8645 - val_loss: 0.3566 - val_accuracy: 0.8607\n",
      "Epoch 41/50\n",
      "33/33 - 190s - loss: 0.3539 - accuracy: 0.8652 - val_loss: 0.3019 - val_accuracy: 0.8688\n",
      "Epoch 42/50\n",
      "33/33 - 190s - loss: 0.3633 - accuracy: 0.8600 - val_loss: 0.3394 - val_accuracy: 0.8743\n",
      "Epoch 43/50\n",
      "33/33 - 190s - loss: 0.3465 - accuracy: 0.8609 - val_loss: 0.3996 - val_accuracy: 0.8493\n",
      "Epoch 44/50\n",
      "33/33 - 190s - loss: 0.3617 - accuracy: 0.8605 - val_loss: 0.3126 - val_accuracy: 0.8786\n",
      "Epoch 45/50\n",
      "33/33 - 190s - loss: 0.3691 - accuracy: 0.8602 - val_loss: 0.2948 - val_accuracy: 0.8900\n",
      "Epoch 46/50\n",
      "33/33 - 189s - loss: 0.3839 - accuracy: 0.8669 - val_loss: 0.2869 - val_accuracy: 0.8802\n",
      "Epoch 47/50\n",
      "33/33 - 189s - loss: 0.4140 - accuracy: 0.8557 - val_loss: 0.3071 - val_accuracy: 0.8791\n",
      "Epoch 48/50\n",
      "33/33 - 189s - loss: 0.3246 - accuracy: 0.8761 - val_loss: 0.3003 - val_accuracy: 0.8748\n",
      "Epoch 49/50\n",
      "33/33 - 190s - loss: 0.3707 - accuracy: 0.8621 - val_loss: 0.3487 - val_accuracy: 0.8694\n",
      "Epoch 50/50\n",
      "33/33 - 190s - loss: 0.3241 - accuracy: 0.8778 - val_loss: 0.3234 - val_accuracy: 0.8813\n",
      "INFO:tensorflow:Assets written to: /content/drive/MyDrive/NewButterflies/assets\n"
     ]
    }
   ],
   "source": [
    "history = model.fit_generator(train_it, epochs=50, validation_data=test_it, verbose=2)\n",
    "\n",
    "filepath = r\"/content/drive/MyDrive/NewButterflies\"\n",
    "tf.keras.models.save_model(\n",
    "    model,\n",
    "    filepath,\n",
    "    overwrite=True,\n",
    "    include_optimizer=True,\n",
    "    save_format=\"tf\",\n",
    "    signatures=None\n",
    ")\n",
    "\n",
    "model.save(\"Newhistory.h5\")"
   ]
  },
  {
   "cell_type": "code",
   "execution_count": null,
   "metadata": {
    "id": "vNNsEdCY2wuL"
   },
   "outputs": [],
   "source": [
    "# loading saved model for verification. \n",
    "# loading using two methods. One is using .h5 file and loading using file path. \n",
    "\n",
    "# loading using .h5 file\n",
    "new_med_model = tf.keras.models.load_model(\n",
    "    \"Newhistory.h5\",\n",
    "    custom_objects=None,\n",
    "    compile=True\n",
    ")"
   ]
  },
  {
   "cell_type": "code",
   "execution_count": null,
   "metadata": {
    "colab": {
     "base_uri": "https://localhost:8080/"
    },
    "id": "cqowoL0u2wuM",
    "outputId": "f37d87ca-009b-40a7-dcbe-fe2a3c7f7a0b"
   },
   "outputs": [
    {
     "name": "stdout",
     "output_type": "stream",
     "text": [
      "Model: \"sequential_3\"\n",
      "_________________________________________________________________\n",
      "Layer (type)                 Output Shape              Param #   \n",
      "=================================================================\n",
      "conv2d_4 (Conv2D)            (None, 178, 178, 16)      448       \n",
      "_________________________________________________________________\n",
      "max_pooling2d_4 (MaxPooling2 (None, 89, 89, 16)        0         \n",
      "_________________________________________________________________\n",
      "conv2d_5 (Conv2D)            (None, 87, 87, 32)        4640      \n",
      "_________________________________________________________________\n",
      "max_pooling2d_5 (MaxPooling2 (None, 43, 43, 32)        0         \n",
      "_________________________________________________________________\n",
      "conv2d_6 (Conv2D)            (None, 41, 41, 64)        18496     \n",
      "_________________________________________________________________\n",
      "max_pooling2d_6 (MaxPooling2 (None, 20, 20, 64)        0         \n",
      "_________________________________________________________________\n",
      "conv2d_7 (Conv2D)            (None, 18, 18, 128)       73856     \n",
      "_________________________________________________________________\n",
      "max_pooling2d_7 (MaxPooling2 (None, 9, 9, 128)         0         \n",
      "_________________________________________________________________\n",
      "flatten_1 (Flatten)          (None, 10368)             0         \n",
      "_________________________________________________________________\n",
      "dense_7 (Dense)              (None, 550)               5702950   \n",
      "_________________________________________________________________\n",
      "dropout_4 (Dropout)          (None, 550)               0         \n",
      "_________________________________________________________________\n",
      "dense_8 (Dense)              (None, 400)               220400    \n",
      "_________________________________________________________________\n",
      "dropout_5 (Dropout)          (None, 400)               0         \n",
      "_________________________________________________________________\n",
      "dense_9 (Dense)              (None, 300)               120300    \n",
      "_________________________________________________________________\n",
      "dropout_6 (Dropout)          (None, 300)               0         \n",
      "_________________________________________________________________\n",
      "dense_10 (Dense)             (None, 200)               60200     \n",
      "_________________________________________________________________\n",
      "dropout_7 (Dropout)          (None, 200)               0         \n",
      "_________________________________________________________________\n",
      "dense_11 (Dense)             (None, 5)                 1005      \n",
      "=================================================================\n",
      "Total params: 6,202,295\n",
      "Trainable params: 6,202,295\n",
      "Non-trainable params: 0\n",
      "_________________________________________________________________\n"
     ]
    }
   ],
   "source": [
    "new_med_model.summary()"
   ]
  },
  {
   "cell_type": "markdown",
   "metadata": {
    "id": "VoNtRt_5DqPm"
   },
   "source": [
    "## ***Result***"
   ]
  },
  {
   "cell_type": "code",
   "execution_count": null,
   "metadata": {
    "colab": {
     "base_uri": "https://localhost:8080/"
    },
    "id": "gB3OqZLv2wuO",
    "outputId": "b1effbd2-520b-42db-8d65-f33291c1e716"
   },
   "outputs": [
    {
     "name": "stdout",
     "output_type": "stream",
     "text": [
      "15/15 - 35s - loss: 0.3064 - accuracy: 0.8824\n",
      "Restored model, accuracy: 88.24%\n"
     ]
    }
   ],
   "source": [
    "loss,acc = new_med_model.evaluate(test_it, verbose=2)\n",
    "print(\"Restored model, accuracy: {:5.2f}%\".format(100*acc))"
   ]
  },
  {
   "cell_type": "markdown",
   "metadata": {
    "id": "S50xqsStEAPt"
   },
   "source": [
    "# ***Epoch Vs Loss Graph***"
   ]
  },
  {
   "cell_type": "code",
   "execution_count": null,
   "metadata": {
    "colab": {
     "base_uri": "https://localhost:8080/",
     "height": 295
    },
    "id": "yualHJ1o6xTD",
    "outputId": "074948c0-6ac6-40cf-e4e3-f3dfa965eb50"
   },
   "outputs": [
    {
     "data": {
      "image/png": "[encoded data removed]",
      "text/plain": [
       "<Figure size 432x288 with 1 Axes>"
      ]
     },
     "metadata": {
      "needs_background": "light"
     },
     "output_type": "display_data"
    }
   ],
   "source": [
    "plt.plot(history.history['loss'])\n",
    "plt.plot(history.history['val_loss'])\n",
    "plt.title('epoch vs loss')\n",
    "plt.ylabel('loss')\n",
    "plt.xlabel('epoch')\n",
    "plt.legend(['train', 'test'], loc='upper left')\n",
    "plt.show()"
   ]
  },
  {
   "cell_type": "markdown",
   "metadata": {
    "id": "3foR69e0EY93"
   },
   "source": [
    "# ***Epoch Vs Accuracy Graph***"
   ]
  },
  {
   "cell_type": "code",
   "execution_count": null,
   "metadata": {
    "colab": {
     "base_uri": "https://localhost:8080/",
     "height": 295
    },
    "id": "u7Pg62x07Db9",
    "outputId": "1b85b312-e1ad-4477-c7d3-3702c0c89144"
   },
   "outputs": [
    {
     "data": {
      "image/png": "[encoded data removed]",
      "text/plain": [
       "<Figure size 432x288 with 1 Axes>"
      ]
     },
     "metadata": {
      "needs_background": "light"
     },
     "output_type": "display_data"
    }
   ],
   "source": [
    "# summarize history for accuracy\n",
    "plt.plot(history.history['accuracy'])\n",
    "plt.plot(history.history['val_accuracy'])\n",
    "plt.title('model accuracy')\n",
    "plt.ylabel('accuracy')\n",
    "plt.xlabel('epoch')\n",
    "plt.legend(['train', 'test'], loc='upper left')\n",
    "plt.show()"
   ]
  },
  {
   "cell_type": "code",
   "execution_count": null,
   "metadata": {
    "colab": {
     "base_uri": "https://localhost:8080/",
     "height": 324
    },
    "id": "trcASphN2wuQ",
    "outputId": "b9fe04cd-06ef-42ad-b6f1-1240ca76074c"
   },
   "outputs": [
    {
     "data": {
      "image/png": "[encoded data removed]",
      "text/plain": [
       "<Figure size 576x360 with 1 Axes>"
      ]
     },
     "metadata": {
      "needs_background": "light"
     },
     "output_type": "display_data"
    }
   ],
   "source": [
    "pd.DataFrame(history.history).plot(figsize=(8, 5))\n",
    "plt.grid(True)\n",
    "plt.gca().set_ylim(0, 1) \n",
    "plt.show()"
   ]
  },
  {
   "cell_type": "code",
   "execution_count": null,
   "metadata": {
    "colab": {
     "base_uri": "https://localhost:8080/"
    },
    "id": "NiG2x5jU5W3C",
    "outputId": "5b7d6fa9-9801-4efe-ae55-1a4a239e8724"
   },
   "outputs": [
    {
     "data": {
      "text/plain": [
       "<tensorflow.python.framework.ops.Graph at 0x7f7d370c0e50>"
      ]
     },
     "execution_count": 26,
     "metadata": {},
     "output_type": "execute_result"
    }
   ],
   "source": [
    "tf.compat.v1.get_default_graph()"
   ]
  },
  {
   "cell_type": "markdown",
   "metadata": {
    "id": "gIwZ9m_QEt0k"
   },
   "source": [
    "# ***Model Deployment***"
   ]
  },
  {
   "cell_type": "code",
   "execution_count": null,
   "metadata": {
    "colab": {
     "base_uri": "https://localhost:8080/"
    },
    "id": "n2307aW02wuR",
    "outputId": "c674cdf3-6a08-4178-ce66-cf6f7e57f48c"
   },
   "outputs": [
    {
     "name": "stdout",
     "output_type": "stream",
     "text": [
      " * Serving Flask app \"__main__\" (lazy loading)\n",
      " * Environment: production\n",
      "\u001b[31m   WARNING: This is a development server. Do not use it in a production deployment.\u001b[0m\n",
      "\u001b[2m   Use a production WSGI server instead.\u001b[0m\n",
      " * Debug mode: off\n"
     ]
    },
    {
     "name": "stderr",
     "output_type": "stream",
     "text": [
      " * Running on http://0.0.0.0:5000/ (Press CTRL+C to quit)\n"
     ]
    }
   ],
   "source": [
    "# Load libraries\n",
    "import flask\n",
    "import pandas as pd\n",
    "import tensorflow as tf\n",
    "import keras\n",
    "from keras.models import load_model\n",
    "\n",
    "# instantiate flask \n",
    "app = flask.Flask(__name__)\n",
    "\n",
    "# we need to redefine our metric function in order \n",
    "# to use it when loading the model \n",
    "def auc(y_true, y_pred):\n",
    "    auc = tf.metrics.auc(y_true, y_pred)[1]\n",
    "    keras.backend.get_session().run(tf.local_variables_initializer())\n",
    "    return auc\n",
    "\n",
    "# load the model, and pass in the custom metric function\n",
    "global graph\n",
    "graph = tf.compat.v1.get_default_graph()\n",
    "model = load_model('Newhistory.h5', custom_objects={'auc': auc})\n",
    "\n",
    "# define a predict function as an endpoint \n",
    "@app.route(\"/predict\", methods=[\"GET\",\"POST\"])\n",
    "def predict():\n",
    "    data = {\"success\": False}\n",
    "\n",
    "    params = flask.request.json\n",
    "    if (params == None):\n",
    "        params = flask.request.args\n",
    "\n",
    "    # if parameters are found, return a prediction\n",
    "    if (params != None):\n",
    "        x=pd.DataFrame.from_dict(params, orient='Newhistory').transpose()\n",
    "        with graph.as_default():\n",
    "            data[\"prediction\"] = str(model.predict(x)[0][0])\n",
    "            data[\"success\"] = True\n",
    "\n",
    "    # return a response in json format \n",
    "    return flask.jsonify(data)    \n",
    "\n",
    "# start the flask app, allow remote connections \n",
    "app.run(host='0.0.0.0')"
   ]
  }
 ],
 "metadata": {
  "colab": {
   "collapsed_sections": [],
   "name": "FinalProject_Sem4.ipynb",
   "provenance": []
  },
  "kernelspec": {
   "display_name": "Python 3",
   "language": "python",
   "name": "python3"
  },
  "language_info": {
   "codemirror_mode": {
    "name": "ipython",
    "version": 3
   },
   "file_extension": ".py",
   "mimetype": "text/x-python",
   "name": "python",
   "nbconvert_exporter": "python",
   "pygments_lexer": "ipython3",
   "version": "3.8.5"
  }
 },
 "nbformat": 4,
 "nbformat_minor": 1
}
